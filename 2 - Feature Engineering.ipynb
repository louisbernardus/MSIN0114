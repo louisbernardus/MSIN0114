{
 "cells": [
  {
   "cell_type": "markdown",
   "metadata": {},
   "source": [
    "# MSIN0114 - Dissertation\n",
    "# Notebook 2 - Feature Engineering"
   ]
  },
  {
   "cell_type": "markdown",
   "metadata": {},
   "source": [
    "# Import Necessary Library"
   ]
  },
  {
   "cell_type": "code",
   "execution_count": 1,
   "metadata": {
    "scrolled": true
   },
   "outputs": [
    {
     "name": "stdout",
     "output_type": "stream",
     "text": [
      "\u001b[1m\n",
      "         .:::.     .::.       \n",
      "        ....yy:    .yy.       \n",
      "        :.  .yy.    y.        \n",
      "             :y:   .:         \n",
      "             .yy  .:          \n",
      "              yy..:           \n",
      "              :y:.            \n",
      "              .y.             \n",
      "             .:.              \n",
      "        ....:.                \n",
      "        :::.                  \n",
      "\u001b[0;33m\n",
      "• Project files and data should be stored in /project. This is shared among everyone\n",
      "  in the project.\n",
      "• Personal files and configuration should be stored in /home/faculty.\n",
      "• Files outside /project and /home/faculty will be lost when this server is terminated.\n",
      "• Create custom environments to setup your servers reproducibly.\n",
      "\u001b[0m\n",
      "Requirement already satisfied: scikit-learn in /opt/anaconda/envs/Python3/lib/python3.8/site-packages (0.24.1)\n",
      "Collecting scikit-learn\n",
      "  Using cached scikit_learn-1.1.1-cp38-cp38-manylinux_2_17_x86_64.manylinux2014_x86_64.whl (31.2 MB)\n",
      "Requirement already satisfied: threadpoolctl>=2.0.0 in /opt/anaconda/envs/Python3/lib/python3.8/site-packages (from scikit-learn) (2.1.0)\n",
      "Requirement already satisfied: joblib>=1.0.0 in /opt/anaconda/envs/Python3/lib/python3.8/site-packages (from scikit-learn) (1.0.1)\n",
      "Requirement already satisfied: numpy>=1.17.3 in /opt/anaconda/envs/Python3/lib/python3.8/site-packages (from scikit-learn) (1.18.5)\n",
      "Requirement already satisfied: scipy>=1.3.2 in /opt/anaconda/envs/Python3/lib/python3.8/site-packages (from scikit-learn) (1.6.2)\n",
      "Installing collected packages: scikit-learn\n",
      "  Attempting uninstall: scikit-learn\n",
      "    Found existing installation: scikit-learn 0.24.1\n",
      "    Uninstalling scikit-learn-0.24.1:\n",
      "      Successfully uninstalled scikit-learn-0.24.1\n",
      "Successfully installed scikit-learn-1.1.1\n",
      "\u001b[1m\n",
      "         .:::.     .::.       \n",
      "        ....yy:    .yy.       \n",
      "        :.  .yy.    y.        \n",
      "             :y:   .:         \n",
      "             .yy  .:          \n",
      "              yy..:           \n",
      "              :y:.            \n",
      "              .y.             \n",
      "             .:.              \n",
      "        ....:.                \n",
      "        :::.                  \n",
      "\u001b[0;33m\n",
      "• Project files and data should be stored in /project. This is shared among everyone\n",
      "  in the project.\n",
      "• Personal files and configuration should be stored in /home/faculty.\n",
      "• Files outside /project and /home/faculty will be lost when this server is terminated.\n",
      "• Create custom environments to setup your servers reproducibly.\n",
      "\u001b[0m\n",
      "Collecting pandarallel\n",
      "  Using cached pandarallel-1.6.1-py3-none-any.whl\n",
      "Requirement already satisfied: pandas>=1 in /opt/anaconda/envs/Python3/lib/python3.8/site-packages (from pandarallel) (1.2.4)\n",
      "Requirement already satisfied: psutil in /opt/anaconda/envs/Python3/lib/python3.8/site-packages (from pandarallel) (5.8.0)\n",
      "Collecting dill>=0.3.1\n",
      "  Using cached dill-0.3.5.1-py2.py3-none-any.whl (95 kB)\n",
      "Requirement already satisfied: python-dateutil>=2.7.3 in /opt/anaconda/envs/Python3/lib/python3.8/site-packages (from pandas>=1->pandarallel) (2.8.1)\n",
      "Requirement already satisfied: pytz>=2017.3 in /opt/anaconda/envs/Python3/lib/python3.8/site-packages (from pandas>=1->pandarallel) (2021.1)\n",
      "Requirement already satisfied: numpy>=1.16.5 in /opt/anaconda/envs/Python3/lib/python3.8/site-packages (from pandas>=1->pandarallel) (1.18.5)\n",
      "Requirement already satisfied: six>=1.5 in /opt/anaconda/envs/Python3/lib/python3.8/site-packages (from python-dateutil>=2.7.3->pandas>=1->pandarallel) (1.15.0)\n",
      "Installing collected packages: dill, pandarallel\n",
      "Successfully installed dill-0.3.5.1 pandarallel-1.6.1\n",
      "INFO: Pandarallel will run on 16 workers.\n",
      "INFO: Pandarallel will use Memory file system to transfer data between the main process and workers.\n"
     ]
    }
   ],
   "source": [
    "!pip install -U scikit-learn\n",
    "!pip install pandarallel\n",
    "\n",
    "from pandarallel import pandarallel\n",
    "pandarallel.initialize(progress_bar=True)\n",
    "\n",
    "import pandas as pd\n",
    "import numpy as np\n",
    "from functools import reduce\n",
    "import glob\n",
    "import time\n",
    "import datetime\n",
    "\n",
    "from itertools import tee, islice, chain\n",
    "\n",
    "#Data visualization\n",
    "import matplotlib as mpl\n",
    "import matplotlib.pyplot as plt\n",
    "import matplotlib.cm as cm\n",
    "import matplotlib.ticker as ticker\n",
    "from matplotlib import colors\n",
    "from matplotlib.colors import ListedColormap\n",
    "from matplotlib.ticker import FixedLocator, FixedFormatter\n",
    "\n",
    "from mpl_toolkits.mplot3d import Axes3D\n",
    "\n",
    "import seaborn as sns\n",
    "sns.set(rc={\"figure.figsize\":(11.7,8.27)})\n",
    "\n",
    "import plotly.express as px\n",
    "import plotly.io as pio\n",
    "import plotly.graph_objs as go\n",
    "from plotly.offline import init_notebook_mode,iplot\n",
    "\n",
    "import warnings\n",
    "warnings.simplefilter(action='ignore', category=FutureWarning)"
   ]
  },
  {
   "cell_type": "code",
   "execution_count": 2,
   "metadata": {},
   "outputs": [],
   "source": [
    "import requests\n",
    "\n",
    "def telegram_bot_sendtext(bot_message):\n",
    "\n",
    "    bot_token = '5544013184:AAEFue_7v4qLcmHEdS2uHBWU2hpQAczrZmU'\n",
    "    bot_chatID = '1452370484'\n",
    "    send_text = 'https://api.telegram.org/bot' + bot_token + '/sendMessage?chat_id=' + bot_chatID + '&parse_mode=Markdown&text=' + bot_message\n",
    "\n",
    "    response = requests.get(send_text)\n",
    "\n",
    "    return response.json()"
   ]
  },
  {
   "cell_type": "markdown",
   "metadata": {},
   "source": [
    "# Import Data from Notebook 1"
   ]
  },
  {
   "cell_type": "code",
   "execution_count": 3,
   "metadata": {},
   "outputs": [
    {
     "name": "stderr",
     "output_type": "stream",
     "text": [
      "/opt/anaconda/envs/Python3/lib/python3.8/site-packages/IPython/core/interactiveshell.py:3165: DtypeWarning:\n",
      "\n",
      "Columns (9) have mixed types.Specify dtype option on import or set low_memory=False.\n",
      "\n"
     ]
    }
   ],
   "source": [
    "final_data_so = pd.read_csv('final_data_so.csv', \n",
    "                      lineterminator='\\n',\n",
    "                      delimiter=',',\n",
    "                      parse_dates=['Order_Tstamp'])"
   ]
  },
  {
   "cell_type": "code",
   "execution_count": 4,
   "metadata": {},
   "outputs": [],
   "source": [
    "data_so = final_data_so"
   ]
  },
  {
   "cell_type": "code",
   "execution_count": 5,
   "metadata": {},
   "outputs": [],
   "source": [
    "data_so['Order_MY'] = data_so['Order_Tstamp'].dt.strftime('%Y-%m')"
   ]
  },
  {
   "cell_type": "markdown",
   "metadata": {},
   "source": [
    "# Generate Target Variable & EDA"
   ]
  },
  {
   "cell_type": "code",
   "execution_count": 6,
   "metadata": {},
   "outputs": [],
   "source": [
    "def get_target(data):\n",
    "    data['next_order'] = data.groupby('Phone')['Order_Tstamp'].shift(periods=-1)\n",
    "    data['days'] = (data['next_order'] - data['Order_Tstamp']).dt.days\n",
    "    data['is_recurring'] = np.where(data['days'] < 30, 1, 0)\n",
    "    data = data.drop(['next_order','days'],1)\n",
    "    return data"
   ]
  },
  {
   "cell_type": "code",
   "execution_count": 7,
   "metadata": {},
   "outputs": [],
   "source": [
    "def get_previous(data):\n",
    "    data['prev_order'] = data.groupby('Phone')['Order_Tstamp'].shift(periods=1)\n",
    "    data['prev_month'] = data['prev_order'].dt.month\n",
    "    return data"
   ]
  },
  {
   "cell_type": "code",
   "execution_count": 8,
   "metadata": {},
   "outputs": [],
   "source": [
    "def fsum(x, t, v):\n",
    "    return x.apply(lambda y: x.loc[x['Order_Tstamp'].between(y['Order_Tstamp'] - t, \n",
    "                                                     y['Order_Tstamp'],\n",
    "                                                     inclusive=False),v].sum(),axis=1)\n",
    "\n",
    "def fcnt(x, t, v):\n",
    "    return x.apply(lambda y: x.loc[x['Order_Tstamp'].between(y['Order_Tstamp'] - t, \n",
    "                                                     y['Order_Tstamp'],\n",
    "                                                     inclusive=False),v].count(),axis=1)\n",
    "\n",
    "def funi(x, t, v):\n",
    "    return x.apply(lambda y: x.loc[x['Order_Tstamp'].between(y['Order_Tstamp'] - t, \n",
    "                                                     y['Order_Tstamp'],\n",
    "                                                     inclusive=False),v].nunique(),axis=1)"
   ]
  },
  {
   "cell_type": "code",
   "execution_count": 9,
   "metadata": {},
   "outputs": [
    {
     "name": "stdout",
     "output_type": "stream",
     "text": [
      "--- 25.179532527923584 seconds ---\n"
     ]
    }
   ],
   "source": [
    "start_time = time.time()\n",
    "data_so = get_target(data_so)\n",
    "data_so = get_previous(data_so)\n",
    "print(\"--- %s seconds ---\" % (time.time() - start_time))"
   ]
  },
  {
   "cell_type": "code",
   "execution_count": 10,
   "metadata": {},
   "outputs": [
    {
     "data": {
      "image/png": "[encoded data removed]",
      "text/plain": [
       "<Figure size 1440x504 with 3 Axes>"
      ]
     },
     "metadata": {},
     "output_type": "display_data"
    }
   ],
   "source": [
    "# Figure 12\n",
    "\n",
    "# prepare data\n",
    "temp = data_so.groupby('is_recurring').agg({'Order_Number':'count', 'Value_Taxed': 'sum', 'Phone': 'nunique'}).reset_index().rename(columns={'Order_Number':'count', 'Value_Taxed': 'sum', 'Phone': 'cust'})\n",
    "temp['avg'] = temp['sum']/temp['count']\n",
    "temp['avg_order'] = temp['count']/temp['cust']\n",
    "\n",
    "# set up figures\n",
    "fig, ax = plt.subplots(1,3,figsize = (20,7))\n",
    "\n",
    "#plot data\n",
    "# ax[0]\n",
    "ax[0].scatter('cust', 'avg', color='#EE6C4D', s=150, data=temp[temp['is_recurring'] == 1], zorder=5)\n",
    "ax[0].scatter('cust', 'avg', color='#545863', s=150, data=temp[temp['is_recurring'] == 0], zorder=5)\n",
    "\n",
    "# set xtick labels\n",
    "ax[0].set_xlim(xmin=0, xmax=4000000)\n",
    "ax[0].set_xticks(pd.np.linspace(500000, 3500000,7))\n",
    "xlabels = ['{:,.0f}'.format(x) + 'k' for x in ax[0].get_xticks()/1000]\n",
    "ax[0].set_xticklabels(xlabels);\n",
    "\n",
    "# set ytick labels\n",
    "ax[0].set_ylim(ymin=150000, ymax=165000)\n",
    "ax[0].set_yticks(pd.np.linspace(152500, 162500, 4))\n",
    "ylabels = ['{:,.0f}'.format(x) + 'k' for x in ax[0].get_yticks()/1000]\n",
    "ax[0].set_yticklabels(ylabels);\n",
    "\n",
    "ax[0].set_xlabel('Unique Customers')\n",
    "ax[0].set_ylabel('Basket Size')\n",
    "\n",
    "from matplotlib.lines import Line2D\n",
    "legend_elements = [Line2D([0], [0], marker='o', color='w', label='Scatter',\n",
    "                          markerfacecolor='#EE6C4D', markersize=10),\n",
    "                   Line2D([0], [0], marker='o', color='w', label='Scatter',\n",
    "                          markerfacecolor='#545863', markersize=10),]\n",
    "ax[0].legend(legend_elements, ['1', '0'], loc='upper right', facecolor='white')\n",
    "\n",
    "#plot data\n",
    "# ax[1]\n",
    "ax[1].bar('is_recurring', 'count', color='#EE6C4D', data=temp[temp['is_recurring'] == 1], zorder=5)\n",
    "ax[1].bar('is_recurring', 'count', color='#545863', data=temp[temp['is_recurring'] == 0], zorder=5)\n",
    "\n",
    "\n",
    "# set xtick labels\n",
    "ax[1].set_xlim(xmin=-1, xmax=2)\n",
    "ax[1].set_xticks(pd.np.linspace(0, 1, 2))\n",
    "xlabels = ['{:,.0f}'.format(x) for x in ax[1].get_xticks()]\n",
    "ax[1].set_xticklabels(xlabels);\n",
    "\n",
    "# set ytick labels\n",
    "ax[1].set_ylim(ymin=0, ymax=6000000)\n",
    "ax[1].set_yticks(pd.np.linspace(1000000, 5000000, 5))\n",
    "ylabels = ['{:,.0f}'.format(x) + 'M' for x in ax[1].get_yticks()/1000000]\n",
    "ax[1].set_yticklabels(ylabels);\n",
    "\n",
    "ax[1].set_ylabel('Total Orders')\n",
    "ax[1].set_xlabel('Target Variable')\n",
    "\n",
    "from matplotlib.lines import Line2D\n",
    "legend_elements = [Line2D([1], [1], marker='o', color='w', label='Scatter',\n",
    "                          markerfacecolor='#EE6C4D', markersize=10),\n",
    "                   Line2D([1], [1], marker='o', color='w', label='Scatter',\n",
    "                          markerfacecolor='#545863', markersize=10),]\n",
    "ax[1].legend(legend_elements, ['1', '0'], loc='upper right', facecolor='white')\n",
    "\n",
    "#plot data\n",
    "# ax[2]\n",
    "ax[2].bar('is_recurring', 'avg_order', color='#EE6C4D', data=temp[temp['is_recurring'] == 1], zorder=5)\n",
    "ax[2].bar('is_recurring', 'avg_order', color='#545863', data=temp[temp['is_recurring'] == 0], zorder=5)\n",
    "\n",
    "\n",
    "# set xtick labels\n",
    "ax[2].set_xlim(xmin=-1, xmax=2)\n",
    "ax[2].set_xticks(pd.np.linspace(0, 1, 2))\n",
    "xlabels = ['{:,.0f}'.format(x) for x in ax[2].get_xticks()]\n",
    "ax[2].set_xticklabels(xlabels);\n",
    "\n",
    "# set ytick labels\n",
    "ax[2].set_ylim(ymin=0, ymax=6)\n",
    "ax[2].set_yticks(pd.np.linspace(1, 5, 5))\n",
    "ylabels = ['{:,.0f}'.format(x) for x in ax[2].get_yticks()]\n",
    "ax[2].set_yticklabels(ylabels);\n",
    "\n",
    "ax[2].set_ylabel('Average Orders per Customer')\n",
    "ax[2].set_xlabel('Target Variable')\n",
    "\n",
    "from matplotlib.lines import Line2D\n",
    "legend_elements = [Line2D([2], [2], marker='o', color='w', label='Scatter',\n",
    "                          markerfacecolor='#EE6C4D', markersize=10),\n",
    "                   Line2D([2], [2], marker='o', color='w', label='Scatter',\n",
    "                          markerfacecolor='#545863', markersize=10),]\n",
    "ax[2].legend(legend_elements, ['1', '0'], loc='upper right', facecolor='white')\n",
    "\n",
    "plt.show()"
   ]
  },
  {
   "cell_type": "code",
   "execution_count": 11,
   "metadata": {
    "scrolled": false
   },
   "outputs": [
    {
     "data": {
      "image/png": "[encoded data removed]",
      "text/plain": [
       "<Figure size 720x720 with 1 Axes>"
      ]
     },
     "metadata": {},
     "output_type": "display_data"
    }
   ],
   "source": [
    "# Figure 13\n",
    "\n",
    "# set up figures\n",
    "fig, ax = plt.subplots(1,1,figsize = (10,10))\n",
    "\n",
    "# plot data\n",
    "perc_barh = data_so.groupby(['Province','is_recurring'])['Phone'].nunique().reset_index(name='cnt')\n",
    "perc_barh['%'] = 100* perc_barh['cnt'] / perc_barh.groupby(['Province'])['cnt'].transform('sum')\n",
    "\n",
    "perc_barh = perc_barh[perc_barh['Province']!='province_name_unclear']\n",
    "perc_barh = perc_barh[['Province','is_recurring','%']]\n",
    "perc_barh = perc_barh.pivot(index='Province', columns='is_recurring', values='%').reset_index().sort_values(by=1,ascending=True).fillna(0)\n",
    "\n",
    "perc_barh.plot.barh(x='Province' , color=[\"#545863\",\"#EE6C4D\"], stacked=True, ax=ax)\n",
    "\n",
    "# set ytick labels\n",
    "ax.set_xlim(xmin=0, xmax=100)\n",
    "ax.set_xticks(pd.np.linspace(0,100, 11))\n",
    "\n",
    "ax.set_xlabel('% of Retaining Customers')\n",
    "ax.set_ylabel('Province')\n",
    "\n",
    "ax.get_legend().remove()\n",
    "\n",
    "from matplotlib.lines import Line2D\n",
    "legend_elements = [Line2D([2], [2], marker='o', color='w', label='Scatter',\n",
    "                          markerfacecolor='#EE6C4D', markersize=10),\n",
    "                   Line2D([2], [2], marker='o', color='w', label='Scatter',\n",
    "                          markerfacecolor='#545863', markersize=10),]\n",
    "ax.legend(legend_elements, ['1', '0'], loc='upper right', facecolor='white')\n",
    "\n",
    "plt.show()"
   ]
  },
  {
   "cell_type": "code",
   "execution_count": 12,
   "metadata": {},
   "outputs": [],
   "source": [
    "def get_var(data):\n",
    "    \n",
    "    '''\n",
    "    ### GET VARIABLE ###\n",
    "    This function generates variables for the final dataset.\n",
    "    As the data is extensive (8 million rows), \n",
    "    we split the data and generate variables for each month separately. \n",
    "    Adjacent and subsequent months are combined as \n",
    "    features are generated from the last 30 days' historical data.\n",
    "    As Pandas only uses a single-core CPU library, \n",
    "    Pandaralel library is used to benefit from a multi-core CPU to fasten the process.\n",
    "    '''\n",
    "    \n",
    "    # remove warning\n",
    "    pd.options.mode.chained_assignment = None  # default='warn'\n",
    "    \n",
    "    # define function to get previous and next index from the list\n",
    "    def previous_and_next(some_iterable):\n",
    "        prevs, items, nexts = tee(some_iterable, 3)\n",
    "        prevs = chain([None], prevs)\n",
    "        nexts = chain(islice(nexts, 1, None), [None])\n",
    "        return zip(prevs, items, nexts)\n",
    "\n",
    "    # define period list and empty list\n",
    "    mylist = ['2020-12','2021-01','2021-02','2021-03','2021-04','2021-05','2021-06','2021-07','2021-08','2021-09','2021-10','2021-11','2021-12']\n",
    "    li = []\n",
    "\n",
    "    # we create a function to iterate mylist and use for-loop to generate final data\n",
    "    for previous, item, nxt in previous_and_next(mylist):\n",
    "        # skip 2020Q4 and 2022Q1\n",
    "        if previous == None:\n",
    "            continue\n",
    "        # main code\n",
    "        else:  \n",
    "            data = data_so[data_so['Order_MY'].isin([previous,item])].copy()\n",
    "            \n",
    "            temp1 = data.groupby('Phone', group_keys=False).parallel_apply(fsum, pd.Timedelta(30, unit='d'), ['Value_Taxed','Qty_Order'])\n",
    "            temp1.rename(columns = {'Value_Taxed':'total_val', 'Qty_Order':'total_qty'}, inplace = True)\n",
    "            \n",
    "            temp2 = data.groupby('Phone', group_keys=False).parallel_apply(funi, pd.Timedelta(30, unit='d'), ['Order_Number', 'Official_Store','Principal'])\n",
    "            temp2.rename(columns = {'Order_Number':'cnt_order', 'Official_Store':'cnt_os', 'Principal':'cnt_princ'}, inplace = True)\n",
    "            \n",
    "            \n",
    "            data_frames = [data,temp1,temp2]\n",
    "            df = reduce(lambda  left,right: pd.merge(left,right,left_index=True, right_index=True, how='left'), data_frames)\n",
    "\n",
    "            df = df[df['Order_MY'] == item]\n",
    "            \n",
    "            li.append(df)\n",
    "    \n",
    "    df_final = pd.concat(li, axis=0, ignore_index=True)\n",
    "\n",
    "    return df_final"
   ]
  },
  {
   "cell_type": "code",
   "execution_count": 13,
   "metadata": {
    "scrolled": false
   },
   "outputs": [
    {
     "data": {
      "application/vnd.jupyter.widget-view+json": {
       "model_id": "ad2c5edcf1e442eeb668592076f0bf93",
       "version_major": 2,
       "version_minor": 0
      },
      "text/plain": [
       "VBox(children=(HBox(children=(IntProgress(value=0, description='0.00%', max=28164), Label(value='0 / 28164')))…"
      ]
     },
     "metadata": {},
     "output_type": "display_data"
    },
    {
     "data": {
      "application/vnd.jupyter.widget-view+json": {
       "model_id": "15886f9a31f24fad946e639d96177008",
       "version_major": 2,
       "version_minor": 0
      },
      "text/plain": [
       "VBox(children=(HBox(children=(IntProgress(value=0, description='0.00%', max=28164), Label(value='0 / 28164')))…"
      ]
     },
     "metadata": {},
     "output_type": "display_data"
    },
    {
     "data": {
      "application/vnd.jupyter.widget-view+json": {
       "model_id": "f497b5ff9cf64f4d9f3e2867d78e1a7c",
       "version_major": 2,
       "version_minor": 0
      },
      "text/plain": [
       "VBox(children=(HBox(children=(IntProgress(value=0, description='0.00%', max=22997), Label(value='0 / 22997')))…"
      ]
     },
     "metadata": {},
     "output_type": "display_data"
    },
    {
     "data": {
      "application/vnd.jupyter.widget-view+json": {
       "model_id": "e59a0ab2a64d48089e38e726aa0bd505",
       "version_major": 2,
       "version_minor": 0
      },
      "text/plain": [
       "VBox(children=(HBox(children=(IntProgress(value=0, description='0.00%', max=22997), Label(value='0 / 22997')))…"
      ]
     },
     "metadata": {},
     "output_type": "display_data"
    },
    {
     "data": {
      "application/vnd.jupyter.widget-view+json": {
       "model_id": "0fb3050185804c7cabc5d049f17283bb",
       "version_major": 2,
       "version_minor": 0
      },
      "text/plain": [
       "VBox(children=(HBox(children=(IntProgress(value=0, description='0.00%', max=23467), Label(value='0 / 23467')))…"
      ]
     },
     "metadata": {},
     "output_type": "display_data"
    },
    {
     "data": {
      "application/vnd.jupyter.widget-view+json": {
       "model_id": "ac3e0f52a9da49a9aedcfa4328226a9a",
       "version_major": 2,
       "version_minor": 0
      },
      "text/plain": [
       "VBox(children=(HBox(children=(IntProgress(value=0, description='0.00%', max=23467), Label(value='0 / 23467')))…"
      ]
     },
     "metadata": {},
     "output_type": "display_data"
    },
    {
     "data": {
      "application/vnd.jupyter.widget-view+json": {
       "model_id": "e4066a47c3624011a98ea1202e1888bf",
       "version_major": 2,
       "version_minor": 0
      },
      "text/plain": [
       "VBox(children=(HBox(children=(IntProgress(value=0, description='0.00%', max=27973), Label(value='0 / 27973')))…"
      ]
     },
     "metadata": {},
     "output_type": "display_data"
    },
    {
     "data": {
      "application/vnd.jupyter.widget-view+json": {
       "model_id": "7c1db6ac9439408e8e2be241bd2975d4",
       "version_major": 2,
       "version_minor": 0
      },
      "text/plain": [
       "VBox(children=(HBox(children=(IntProgress(value=0, description='0.00%', max=27973), Label(value='0 / 27973')))…"
      ]
     },
     "metadata": {},
     "output_type": "display_data"
    },
    {
     "data": {
      "application/vnd.jupyter.widget-view+json": {
       "model_id": "d580d59621664de29d9ad7cc602fc197",
       "version_major": 2,
       "version_minor": 0
      },
      "text/plain": [
       "VBox(children=(HBox(children=(IntProgress(value=0, description='0.00%', max=28620), Label(value='0 / 28620')))…"
      ]
     },
     "metadata": {},
     "output_type": "display_data"
    },
    {
     "data": {
      "application/vnd.jupyter.widget-view+json": {
       "model_id": "33d3c762ca2846f99516b3218ca6b37b",
       "version_major": 2,
       "version_minor": 0
      },
      "text/plain": [
       "VBox(children=(HBox(children=(IntProgress(value=0, description='0.00%', max=28620), Label(value='0 / 28620')))…"
      ]
     },
     "metadata": {},
     "output_type": "display_data"
    },
    {
     "data": {
      "application/vnd.jupyter.widget-view+json": {
       "model_id": "a26b8e5ee4bf46dc9c27ffb96208aecb",
       "version_major": 2,
       "version_minor": 0
      },
      "text/plain": [
       "VBox(children=(HBox(children=(IntProgress(value=0, description='0.00%', max=29631), Label(value='0 / 29631')))…"
      ]
     },
     "metadata": {},
     "output_type": "display_data"
    },
    {
     "data": {
      "application/vnd.jupyter.widget-view+json": {
       "model_id": "aecafd98925548b5a72b475d6fd0803c",
       "version_major": 2,
       "version_minor": 0
      },
      "text/plain": [
       "VBox(children=(HBox(children=(IntProgress(value=0, description='0.00%', max=29631), Label(value='0 / 29631')))…"
      ]
     },
     "metadata": {},
     "output_type": "display_data"
    },
    {
     "data": {
      "application/vnd.jupyter.widget-view+json": {
       "model_id": "9cb4de13064f4f2fbe025161eafd1a6c",
       "version_major": 2,
       "version_minor": 0
      },
      "text/plain": [
       "VBox(children=(HBox(children=(IntProgress(value=0, description='0.00%', max=39468), Label(value='0 / 39468')))…"
      ]
     },
     "metadata": {},
     "output_type": "display_data"
    },
    {
     "data": {
      "application/vnd.jupyter.widget-view+json": {
       "model_id": "a20b32f4dbe2445f821404d3018d8ca9",
       "version_major": 2,
       "version_minor": 0
      },
      "text/plain": [
       "VBox(children=(HBox(children=(IntProgress(value=0, description='0.00%', max=39468), Label(value='0 / 39468')))…"
      ]
     },
     "metadata": {},
     "output_type": "display_data"
    },
    {
     "data": {
      "application/vnd.jupyter.widget-view+json": {
       "model_id": "c50e83fdbdcd404a8885325123bcc291",
       "version_major": 2,
       "version_minor": 0
      },
      "text/plain": [
       "VBox(children=(HBox(children=(IntProgress(value=0, description='0.00%', max=43897), Label(value='0 / 43897')))…"
      ]
     },
     "metadata": {},
     "output_type": "display_data"
    },
    {
     "data": {
      "application/vnd.jupyter.widget-view+json": {
       "model_id": "36fb43db53cf43d8a80743aba4a78f68",
       "version_major": 2,
       "version_minor": 0
      },
      "text/plain": [
       "VBox(children=(HBox(children=(IntProgress(value=0, description='0.00%', max=43897), Label(value='0 / 43897')))…"
      ]
     },
     "metadata": {},
     "output_type": "display_data"
    },
    {
     "data": {
      "application/vnd.jupyter.widget-view+json": {
       "model_id": "7a033fb0526344a5a102c039c68fe9b0",
       "version_major": 2,
       "version_minor": 0
      },
      "text/plain": [
       "VBox(children=(HBox(children=(IntProgress(value=0, description='0.00%', max=39236), Label(value='0 / 39236')))…"
      ]
     },
     "metadata": {},
     "output_type": "display_data"
    },
    {
     "data": {
      "application/vnd.jupyter.widget-view+json": {
       "model_id": "38c8e5e16d554fe38ea8bcd54d40c9d3",
       "version_major": 2,
       "version_minor": 0
      },
      "text/plain": [
       "VBox(children=(HBox(children=(IntProgress(value=0, description='0.00%', max=39236), Label(value='0 / 39236')))…"
      ]
     },
     "metadata": {},
     "output_type": "display_data"
    },
    {
     "data": {
      "application/vnd.jupyter.widget-view+json": {
       "model_id": "05a869b212f44388979dd77f2774c442",
       "version_major": 2,
       "version_minor": 0
      },
      "text/plain": [
       "VBox(children=(HBox(children=(IntProgress(value=0, description='0.00%', max=38495), Label(value='0 / 38495')))…"
      ]
     },
     "metadata": {},
     "output_type": "display_data"
    },
    {
     "data": {
      "application/vnd.jupyter.widget-view+json": {
       "model_id": "34851b7c0e7f4975a5aecd1429dbcd77",
       "version_major": 2,
       "version_minor": 0
      },
      "text/plain": [
       "VBox(children=(HBox(children=(IntProgress(value=0, description='0.00%', max=38495), Label(value='0 / 38495')))…"
      ]
     },
     "metadata": {},
     "output_type": "display_data"
    },
    {
     "data": {
      "application/vnd.jupyter.widget-view+json": {
       "model_id": "be284703cb0845ffa946c8eede6f074e",
       "version_major": 2,
       "version_minor": 0
      },
      "text/plain": [
       "VBox(children=(HBox(children=(IntProgress(value=0, description='0.00%', max=40663), Label(value='0 / 40663')))…"
      ]
     },
     "metadata": {},
     "output_type": "display_data"
    },
    {
     "data": {
      "application/vnd.jupyter.widget-view+json": {
       "model_id": "c92824e8981b44ee9d30739d7a80777d",
       "version_major": 2,
       "version_minor": 0
      },
      "text/plain": [
       "VBox(children=(HBox(children=(IntProgress(value=0, description='0.00%', max=40663), Label(value='0 / 40663')))…"
      ]
     },
     "metadata": {},
     "output_type": "display_data"
    },
    {
     "data": {
      "application/vnd.jupyter.widget-view+json": {
       "model_id": "fa6ae46a840e46068b660eac1e3010b8",
       "version_major": 2,
       "version_minor": 0
      },
      "text/plain": [
       "VBox(children=(HBox(children=(IntProgress(value=0, description='0.00%', max=46246), Label(value='0 / 46246')))…"
      ]
     },
     "metadata": {},
     "output_type": "display_data"
    },
    {
     "data": {
      "application/vnd.jupyter.widget-view+json": {
       "model_id": "1c0aa3bdf3fe44af9818e1a4cd4f49f6",
       "version_major": 2,
       "version_minor": 0
      },
      "text/plain": [
       "VBox(children=(HBox(children=(IntProgress(value=0, description='0.00%', max=46246), Label(value='0 / 46246')))…"
      ]
     },
     "metadata": {},
     "output_type": "display_data"
    },
    {
     "name": "stdout",
     "output_type": "stream",
     "text": [
      "--- 12592.588988304138 seconds ---\n"
     ]
    }
   ],
   "source": [
    "start_time = time.time()\n",
    "temp_df = get_var(data_so)\n",
    "print(\"--- %s seconds ---\" % (time.time() - start_time))"
   ]
  },
  {
   "cell_type": "code",
   "execution_count": 14,
   "metadata": {},
   "outputs": [],
   "source": [
    "def gen_feat(data):\n",
    "    column_list = ['Principal', 'Principal_Categ']\n",
    "    for i in (column_list):\n",
    "        data = pd.get_dummies(data, columns=[i])\n",
    "        \n",
    "    data['current_month'] = data['Order_Tstamp'].dt.month\n",
    "\n",
    "    data['more_than_3'] = np.where((data['cnt_order']+data['cnt_os']+data['cnt_princ']) > 3, 1, 0)\n",
    "\n",
    "    java = ['DKI Jakarta', 'Jawa Barat', 'Banten', 'Jawa Timur', 'Jawa Tengah']\n",
    "    data['in_java'] = np.where(data['Province'].isin(java), 1, 0)\n",
    "\n",
    "    data = data.drop(columns=['Order_Tstamp', 'Status', 'SKAM', 'Warehouse', 'Buyer', 'Address', 'City', 'Postcode', 'Shipping',\n",
    "                             'Marketplace', 'Official_Store', 'Gender', 'Shipping_Categ', 'Province_Categ','Province','prev_order'])\n",
    "\n",
    "    return data"
   ]
  },
  {
   "cell_type": "code",
   "execution_count": 15,
   "metadata": {
    "scrolled": false
   },
   "outputs": [],
   "source": [
    "final_model_data = gen_feat(temp_df)"
   ]
  },
  {
   "cell_type": "code",
   "execution_count": 16,
   "metadata": {},
   "outputs": [],
   "source": [
    "final_model_data.to_csv('final_model_data.csv', index=False)"
   ]
  }
 ],
 "metadata": {
  "kernelspec": {
   "display_name": "Python [conda env:Python3] *",
   "language": "python",
   "name": "conda-env-Python3-py"
  },
  "language_info": {
   "codemirror_mode": {
    "name": "ipython",
    "version": 3
   },
   "file_extension": ".py",
   "mimetype": "text/x-python",
   "name": "python",
   "nbconvert_exporter": "python",
   "pygments_lexer": "ipython3",
   "version": "3.8.2"
  }
 },
 "nbformat": 4,
 "nbformat_minor": 2
}
